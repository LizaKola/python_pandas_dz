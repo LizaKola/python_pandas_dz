{
 "cells": [
  {
   "cell_type": "code",
   "execution_count": 2,
   "id": "ba695523",
   "metadata": {},
   "outputs": [],
   "source": [
    "import pandas as pd\n"
   ]
  },
  {
   "cell_type": "code",
   "execution_count": 3,
   "id": "98bfdc36",
   "metadata": {},
   "outputs": [],
   "source": [
    "train = pd.read_csv('data/train.csv', sep=',', index_col=0,\n",
    "                       dtype = {'row_id': 'int64', 'timestamp': 'int64', 'user_id': 'int32', 'content_id': 'int16', \n",
    "                                'content_type_id': 'int8', 'task_container_id': 'int16', 'user_answer': 'int8', \n",
    "                                'answered_correctly': 'int8', 'prior_question_elapsed_time': 'float32', \n",
    "                                'prior_question_had_explanation': 'boolean'\n",
    "                               }\n",
    "                      )"
   ]
  },
  {
   "cell_type": "code",
   "execution_count": 4,
   "id": "85892576",
   "metadata": {},
   "outputs": [
    {
     "data": {
      "text/html": [
       "<div>\n",
       "<style scoped>\n",
       "    .dataframe tbody tr th:only-of-type {\n",
       "        vertical-align: middle;\n",
       "    }\n",
       "\n",
       "    .dataframe tbody tr th {\n",
       "        vertical-align: top;\n",
       "    }\n",
       "\n",
       "    .dataframe thead th {\n",
       "        text-align: right;\n",
       "    }\n",
       "</style>\n",
       "<table border=\"1\" class=\"dataframe\">\n",
       "  <thead>\n",
       "    <tr style=\"text-align: right;\">\n",
       "      <th></th>\n",
       "      <th>timestamp</th>\n",
       "      <th>user_id</th>\n",
       "      <th>content_id</th>\n",
       "      <th>content_type_id</th>\n",
       "      <th>task_container_id</th>\n",
       "      <th>user_answer</th>\n",
       "      <th>answered_correctly</th>\n",
       "      <th>prior_question_elapsed_time</th>\n",
       "      <th>prior_question_had_explanation</th>\n",
       "    </tr>\n",
       "    <tr>\n",
       "      <th>row_id</th>\n",
       "      <th></th>\n",
       "      <th></th>\n",
       "      <th></th>\n",
       "      <th></th>\n",
       "      <th></th>\n",
       "      <th></th>\n",
       "      <th></th>\n",
       "      <th></th>\n",
       "      <th></th>\n",
       "    </tr>\n",
       "  </thead>\n",
       "  <tbody>\n",
       "    <tr>\n",
       "      <th>0</th>\n",
       "      <td>0</td>\n",
       "      <td>115</td>\n",
       "      <td>5692</td>\n",
       "      <td>0</td>\n",
       "      <td>1</td>\n",
       "      <td>3</td>\n",
       "      <td>1</td>\n",
       "      <td>NaN</td>\n",
       "      <td>&lt;NA&gt;</td>\n",
       "    </tr>\n",
       "    <tr>\n",
       "      <th>1</th>\n",
       "      <td>56943</td>\n",
       "      <td>115</td>\n",
       "      <td>5716</td>\n",
       "      <td>0</td>\n",
       "      <td>2</td>\n",
       "      <td>2</td>\n",
       "      <td>1</td>\n",
       "      <td>37000.0</td>\n",
       "      <td>False</td>\n",
       "    </tr>\n",
       "    <tr>\n",
       "      <th>2</th>\n",
       "      <td>118363</td>\n",
       "      <td>115</td>\n",
       "      <td>128</td>\n",
       "      <td>0</td>\n",
       "      <td>0</td>\n",
       "      <td>0</td>\n",
       "      <td>1</td>\n",
       "      <td>55000.0</td>\n",
       "      <td>False</td>\n",
       "    </tr>\n",
       "    <tr>\n",
       "      <th>3</th>\n",
       "      <td>131167</td>\n",
       "      <td>115</td>\n",
       "      <td>7860</td>\n",
       "      <td>0</td>\n",
       "      <td>3</td>\n",
       "      <td>0</td>\n",
       "      <td>1</td>\n",
       "      <td>19000.0</td>\n",
       "      <td>False</td>\n",
       "    </tr>\n",
       "    <tr>\n",
       "      <th>4</th>\n",
       "      <td>137965</td>\n",
       "      <td>115</td>\n",
       "      <td>7922</td>\n",
       "      <td>0</td>\n",
       "      <td>4</td>\n",
       "      <td>1</td>\n",
       "      <td>1</td>\n",
       "      <td>11000.0</td>\n",
       "      <td>False</td>\n",
       "    </tr>\n",
       "  </tbody>\n",
       "</table>\n",
       "</div>"
      ],
      "text/plain": [
       "        timestamp  user_id  content_id  content_type_id  task_container_id  \\\n",
       "row_id                                                                       \n",
       "0               0      115        5692                0                  1   \n",
       "1           56943      115        5716                0                  2   \n",
       "2          118363      115         128                0                  0   \n",
       "3          131167      115        7860                0                  3   \n",
       "4          137965      115        7922                0                  4   \n",
       "\n",
       "        user_answer  answered_correctly  prior_question_elapsed_time  \\\n",
       "row_id                                                                 \n",
       "0                 3                   1                          NaN   \n",
       "1                 2                   1                      37000.0   \n",
       "2                 0                   1                      55000.0   \n",
       "3                 0                   1                      19000.0   \n",
       "4                 1                   1                      11000.0   \n",
       "\n",
       "        prior_question_had_explanation  \n",
       "row_id                                  \n",
       "0                                 <NA>  \n",
       "1                                False  \n",
       "2                                False  \n",
       "3                                False  \n",
       "4                                False  "
      ]
     },
     "execution_count": 4,
     "metadata": {},
     "output_type": "execute_result"
    }
   ],
   "source": [
    "train.head()"
   ]
  },
  {
   "cell_type": "code",
   "execution_count": 5,
   "id": "d6f857ef",
   "metadata": {},
   "outputs": [
    {
     "name": "stdout",
     "output_type": "stream",
     "text": [
      "<class 'pandas.core.frame.DataFrame'>\n",
      "Int64Index: 101230332 entries, 0 to 101230331\n",
      "Data columns (total 9 columns):\n",
      " #   Column                          Dtype  \n",
      "---  ------                          -----  \n",
      " 0   timestamp                       int64  \n",
      " 1   user_id                         int32  \n",
      " 2   content_id                      int16  \n",
      " 3   content_type_id                 int8   \n",
      " 4   task_container_id               int16  \n",
      " 5   user_answer                     int8   \n",
      " 6   answered_correctly              int8   \n",
      " 7   prior_question_elapsed_time     float32\n",
      " 8   prior_question_had_explanation  boolean\n",
      "dtypes: boolean(1), float32(1), int16(2), int32(1), int64(1), int8(3)\n",
      "memory usage: 3.1 GB\n"
     ]
    }
   ],
   "source": [
    "train.info()"
   ]
  },
  {
   "cell_type": "code",
   "execution_count": null,
   "id": "5c830230",
   "metadata": {},
   "outputs": [],
   "source": [
    "\"\"\"\n",
    "Для удобства анализа приведем последний столбец к числовому типу\n",
    "Сначала переведем пустые значения в False (в целях анализа эти значения равнозначны)\n",
    "Затем конвертируем в числовой формат\n",
    "\"\"\"\n",
    "for i in range(train.shape[0]):\n",
    "    if pd.isna(train['prior_question_had_explanation'][i]) == True:\n",
    "        train['prior_question_had_explanation'][i] = False\n",
    "train['prior_question_had_explanation'] = train['prior_question_had_explanation'].astype('int8')"
   ]
  },
  {
   "cell_type": "code",
   "execution_count": null,
   "id": "f0716f5b",
   "metadata": {},
   "outputs": [],
   "source": [
    "train.info()"
   ]
  },
  {
   "cell_type": "code",
   "execution_count": null,
   "id": "37253a2f",
   "metadata": {},
   "outputs": [],
   "source": [
    "\"\"\"\n",
    "Исследуем кол-во уникальных значений для разных колонок\n",
    "\"\"\"\n",
    "unique_list = []\n",
    "for col in train.columns:\n",
    "    item = (col, train[col].nunique(), train[col].dtype)\n",
    "    unique_list.append(item)\n",
    "unique_counts = pd.DataFrame(unique_list,\n",
    "                             columns=['Column_Name', 'Num_Unique', 'Type']\n",
    "                            ).sort_values(by='Num_Unique',  ignore_index=True)\n",
    "display(unique_counts)"
   ]
  },
  {
   "cell_type": "code",
   "execution_count": null,
   "id": "4ab325e0",
   "metadata": {},
   "outputs": [],
   "source": [
    "\"\"\"\n",
    "Исследуем кол-во уникальных значений для разных колонок\n",
    "\"\"\"\n",
    "unique_list = []\n",
    "for col in train.columns:\n",
    "    item = (col, train[col].nunique(), train[col].dtype)\n",
    "    unique_list.append(item)\n",
    "unique_counts = pd.DataFrame(unique_list,\n",
    "                             columns=['Column_Name', 'Num_Unique', 'Type']\n",
    "                            ).sort_values(by='Num_Unique',  ignore_index=True)\n",
    "display(unique_counts)"
   ]
  },
  {
   "cell_type": "code",
   "execution_count": null,
   "id": "d1ccd4b9",
   "metadata": {},
   "outputs": [],
   "source": [
    "\"\"\"\n",
    "Исследуем соотношение правильных и неправильных ответов (исключаем из рассмотрения лекции)\n",
    "\"\"\"\n",
    "train[train['answered_correctly'] != -1]['answered_correctly'].value_counts(normalize=True) \n",
    "train[train['answered_correctly'] != -1]['answered_correctly'].value_counts()[1] \n",
    "train[train['answered_correctly'] != -1]['answered_correctly'].value_counts()[0]\n",
    "train[train['answered_correctly'] != -1]['answered_correctly'].mean()\n",
    "\n",
    "# 66% составляют правильные ответы, 34% - неправильные\n",
    "# всего 65244627 правильных ответов и 34026673 неправильных ответов\n",
    "# 0.657 - средний балл студента"
   ]
  },
  {
   "cell_type": "code",
   "execution_count": null,
   "id": "12c275f7",
   "metadata": {},
   "outputs": [],
   "source": [
    "\"\"\"\n",
    "Посчитаем среднее время на решение вопроса\n",
    "\"\"\"\n",
    "train['prior_question_elapsed_time'].mean()"
   ]
  },
  {
   "cell_type": "code",
   "execution_count": null,
   "id": "370b70e3",
   "metadata": {},
   "outputs": [],
   "source": [
    "\"\"\"\n",
    "Приведем средние данные по общей базе данных:\n",
    "\"\"\"\n",
    "train[train['content_type_id'] == 0].shape[0] / train['user_id'].nunique()\n",
    "train[train['answered_correctly'] != -1]['answered_correctly'].sum() / train['user_id'].nunique()\n",
    "train[train['content_type_id'] == 1].shape[0] / train['user_id'].nunique()\n",
    "train['prior_question_had_explanation'].sum() / train['user_id'].nunique()\n",
    "train['prior_question_elapsed_time'].mean()"
   ]
  },
  {
   "cell_type": "code",
   "execution_count": null,
   "id": "80a1a093",
   "metadata": {},
   "outputs": [],
   "source": [
    "\"\"\"\n",
    "Посмотрим, есть ли разница в % правильных ответов в зависиомсти от:\n",
    "- времени с начала сессии\n",
    "- среднего времеми ответа студента на вопросы\n",
    "- видел ли студент правильный ответ на предыдущее задание\n",
    "\"\"\"\n",
    "pd.DataFrame({'timestamp': train[train['answered_correctly'] != -1]['timestamp'].groupby(train['answered_correctly']).mean(),\n",
    "              'prior_questions_time': train[train['answered_correctly'] != -1]['prior_question_elapsed_time'].groupby(train['answered_correctly']).mean(),\n",
    "              'had_explanation': train[train['answered_correctly'] != -1]['prior_question_had_explanation'].groupby(train['answered_correctly']).sum()\n",
    "             }\n",
    "            )\n",
    "\n",
    "# Можно сделать следующие выводы:\n",
    "# - чем ближе к началу сессии вопрос, тем менее успешно его проходят студенты \n",
    "# (т.е. успешность коррелирует со временем, проведенным на платформе)\n",
    "# - студенты, тратящие меньше времени на решение, чаще отвечают правильно\n",
    "# - если студент видел объяснение предыдущий задачи, вероятность правильного ответа удваивается"
   ]
  },
  {
   "cell_type": "code",
   "execution_count": null,
   "id": "c1fe59c2",
   "metadata": {},
   "outputs": [],
   "source": [
    "\"\"\"\n",
    "Cоставим новый дф по уникальным id студентов\n",
    "Cначала сформируем необходимые списки для df\n",
    "\"\"\"\n",
    "sudents_list = list(train['user_id'].unique())\n",
    "users_q = len(sudents_list)\n",
    "\n",
    "# Всего 393656 уникальных студентов"
   ]
  },
  {
   "cell_type": "code",
   "execution_count": null,
   "id": "ce1bd8ce",
   "metadata": {},
   "outputs": [],
   "source": [
    "\"\"\"\n",
    "Поскольку число уникальных студентов слишком велико для быстрой обработки, \n",
    "возьмем из нее 500 уникальных и проанализируем их активность.\n",
    "\"\"\"\n",
    "sudents_list = sudents_list[:500]"
   ]
  },
  {
   "cell_type": "code",
   "execution_count": null,
   "id": "b3a8b316",
   "metadata": {},
   "outputs": [],
   "source": [
    "\"\"\"\n",
    "Посчитаем время на платформе для каждого студента\n",
    "\"\"\"\n",
    "time = []\n",
    "for student in sudents_list:\n",
    "    t = train[train['user_id'] == student]['timestamp'].max()\n",
    "    time.append(t)"
   ]
  },
  {
   "cell_type": "code",
   "execution_count": null,
   "id": "25160805",
   "metadata": {},
   "outputs": [],
   "source": [
    "\"\"\"\n",
    "Количество отвеченных вопросов\n",
    "\"\"\"\n",
    "ques_quant = []\n",
    "for student in sudents_list:\n",
    "    q = train[(train['user_id'] == student) & (train['content_type_id'] == 0)]['content_type_id'].count()\n",
    "    ques_quant.append(q)"
   ]
  },
  {
   "cell_type": "code",
   "execution_count": null,
   "id": "a037865e",
   "metadata": {},
   "outputs": [],
   "source": [
    "\"\"\"\n",
    "Cредний балл студента\n",
    "\"\"\"\n",
    "av_grade = []\n",
    "for student in sudents_list:\n",
    "    g = train[(train['user_id'] == student) & (train['answered_correctly'] != -1)]['answered_correctly'].mean()\n",
    "    av_grade.append(g)\n",
    "\"\"\"\n",
    "Кол-во просмотренных лекций\n",
    "\"\"\"\n",
    "lec_watched = []\n",
    "for student in sudents_list:\n",
    "    l = train[train['user_id'] == student]['content_type_id'].sum()\n",
    "    lec_watched.append(l)\n",
    "\"\"\"\n",
    "Кол-во виденных объяснений на предыдущие вопросы\n",
    "\"\"\"\n",
    "expl_watched = []\n",
    "for student in sudents_list:\n",
    "    e = train[train['user_id'] == student]['prior_question_had_explanation'].sum()\n",
    "    expl_watched.append(e)\n",
    "\"\"\"\n",
    "Время, в среднем потраченное студентом на каждый вопрос\n",
    "\"\"\"\n",
    "ques_time = []\n",
    "for student in sudents_list:\n",
    "    qt = train[(train['user_id'] == student)]['prior_question_elapsed_time'].mean()\n",
    "    ques_time.append(qt)\n",
    "\"\"\"\n",
    "Запишем данные по 500 отобранным студентам в единую таблицу\n",
    "\"\"\"\n",
    "students = pd.DataFrame({'user_id': sudents_list,\n",
    "                        'time': time,\n",
    "                        'ques_quant': ques_quant,\n",
    "                        'av_grade': av_grade,\n",
    "                        'lec_watched': lec_watched,\n",
    "                        'expl_watched': expl_watched,\n",
    "                         'ques_time': ques_time\n",
    "                       }\n",
    "                      )\n",
    "students = students.astype({'user_id': 'int32',\n",
    "                            'time': 'int64',\n",
    "                            'ques_quant': 'int16', \n",
    "                            'av_grade': 'float32',\n",
    "                            'lec_watched': 'int16',\n",
    "                            'expl_watched': 'int16',\n",
    "                            'ques_time': 'float32'\n",
    "                           })"
   ]
  },
  {
   "cell_type": "code",
   "execution_count": null,
   "id": "6f73c8b8",
   "metadata": {},
   "outputs": [],
   "source": [
    "students.head()"
   ]
  },
  {
   "cell_type": "code",
   "execution_count": null,
   "id": "80ff85ff",
   "metadata": {},
   "outputs": [],
   "source": [
    "\"\"\"\n",
    "Посмотрим, насколько наша выборка похожа на общие данные:\n",
    "\"\"\"\n",
    "students.describe()"
   ]
  },
  {
   "cell_type": "code",
   "execution_count": null,
   "id": "4ec44c5a",
   "metadata": {},
   "outputs": [],
   "source": [
    "\"\"\"\n",
    "Гистограма распределения средних оценок среди студентов\n",
    "\"\"\"\n",
    "students['av_grade'].hist(bins=20)"
   ]
  },
  {
   "cell_type": "code",
   "execution_count": null,
   "id": "c95759c8",
   "metadata": {},
   "outputs": [],
   "source": [
    "students['av_grade'].median()"
   ]
  },
  {
   "cell_type": "code",
   "execution_count": null,
   "id": "e7c79d9a",
   "metadata": {},
   "outputs": [],
   "source": [
    "\"\"\"\n",
    "Построим диаграмму рассеяния, показывающую зависимость правильных ответов от веремени, проведенного на платформе\n",
    "Чтобы убрать выбросы, ограничим время 3000000.\n",
    "\"\"\"\n",
    "students[students['time'] < 3000000].plot.scatter(x='av_grade', y='time')"
   ]
  },
  {
   "cell_type": "code",
   "execution_count": null,
   "id": "4e1feb8d",
   "metadata": {},
   "outputs": [],
   "source": [
    "\"\"\"\n",
    "Посмотрим на гистограмме, в какой момент большинство студентов прекращает занятия\n",
    "\"\"\"\n",
    "students[students['time'] < 3000000].hist(column=['time'])"
   ]
  },
  {
   "cell_type": "code",
   "execution_count": null,
   "id": "55d36c4d",
   "metadata": {},
   "outputs": [],
   "source": [
    "\"\"\"\n",
    "Построим диаграмму рассеяния для студентов, не бросивших учебу в течение 1го часа.\n",
    "\"\"\"\n",
    "students[students['time'] > 3000000].plot.scatter(x='av_grade', y='time')"
   ]
  },
  {
   "cell_type": "code",
   "execution_count": null,
   "id": "f837a5bd",
   "metadata": {},
   "outputs": [],
   "source": [
    "\"\"\"\n",
    "Для наглядности проведем разбиение студентов по временным группам:\n",
    " - Добавим столбец с временной группировкой\n",
    " - Построим диаграмму размаха\n",
    "\"\"\"\n",
    "\n",
    "def time_convert(e):\n",
    "    if e < students['time'].quantile(0.1): return 0\n",
    "    elif e < students['time'].quantile(0.2): return 1\n",
    "    elif e < students['time'].quantile(0.3): return 2\n",
    "    elif e < students['time'].quantile(0.4): return 3\n",
    "    elif e < students['time'].quantile(0.5): return 4\n",
    "    elif e < students['time'].quantile(0.6): return 5\n",
    "    elif e < students['time'].quantile(0.7): return 6\n",
    "    elif e < students['time'].quantile(0.8): return 7\n",
    "    elif e < students['time'].quantile(0.9): return 8\n",
    "    else: return 9\n",
    "    \n",
    "students['time_group'] = students['time'].apply(time_convert)\n",
    "students.boxplot(column=['av_grade'], by=['time_group'])\n",
    "\n",
    "# Первый эффект от занятий становится виден, если студент не бросает заниматься\n",
    "# При этом, если студент потратил на занятия не менее 55 часов, его оценка становится устойчиво выше средней\n",
    "# и продолжает расти со временем.\n",
    "# Однако, если курс не пройден за ~ полгода, оценка становится нестабильной\n",
    "# Т.е. стоит не только стимулировать студентов не бросать занятия после первого подхода,\n",
    "# но и закончить курс за первые полгода обучения."
   ]
  },
  {
   "cell_type": "code",
   "execution_count": null,
   "id": "6303233b",
   "metadata": {},
   "outputs": [],
   "source": [
    "\"\"\"\n",
    "Построим диаграмму рассеяния, показывающую зависимость правильных ответов от кол-ва сделанных заданий\n",
    "Ограничим выборку студентами, не бросившими обучение сразу.\n",
    "\"\"\"\n",
    "students[(students['ques_quant'] < 1000) & (students['time'] > 3000000)].plot.scatter(x='av_grade', y='ques_quant', c='red')\n",
    "\n",
    "# чтобы убрать выбросы, ограничим данные сверху 1000\n",
    "# На графике довольно очевидна связь успеваемости с кол-вом отвеченных вопросов\n",
    "# Стоит провести группировку вопросов по кол-ву для дальнейшего анализа"
   ]
  },
  {
   "cell_type": "code",
   "execution_count": null,
   "id": "ef2f32b1",
   "metadata": {},
   "outputs": [],
   "source": [
    "\"\"\"\n",
    "Построим новый столбец с группировкой по кол-ву отвеченных вопросов\n",
    "Далее строим диаграмму размаха\n",
    "\"\"\"\n",
    "def ques_convert(e):\n",
    "    if e < students['ques_quant'].quantile(0.1): return 0\n",
    "    elif e < students['ques_quant'].quantile(0.2): return 1\n",
    "    elif e < students['ques_quant'].quantile(0.3): return 2\n",
    "    elif e < students['ques_quant'].quantile(0.4): return 3\n",
    "    elif e < students['ques_quant'].quantile(0.5): return 4\n",
    "    elif e < students['ques_quant'].quantile(0.6): return 5\n",
    "    elif e < students['ques_quant'].quantile(0.7): return 6\n",
    "    elif e < students['ques_quant'].quantile(0.8): return 7\n",
    "    elif e < students['ques_quant'].quantile(0.9): return 8\n",
    "    else: return 9\n",
    "    \n",
    "students['q_group'] = students['ques_quant'].apply(ques_convert)"
   ]
  },
  {
   "cell_type": "code",
   "execution_count": null,
   "id": "8c6a2b71",
   "metadata": {},
   "outputs": [],
   "source": [
    "students.boxplot(column=['av_grade'], by=['q_group'])\n",
    "\n",
    "# Мы видим странную просадку в 4м квартиле"
   ]
  },
  {
   "cell_type": "code",
   "execution_count": null,
   "id": "6361a20a",
   "metadata": {},
   "outputs": [],
   "source": [
    "# Можем предположить, что первые вопросы являются сильным демотиватором для учащегося.\n",
    "# Но если студент отвечает больше, чем на 34 вопроса, он постепенно начинает улучшать свои показатели\n",
    "# И дальше результаты только улучшаются\n",
    "# На гистограме видно, что 32 вопроса - порог отсечения для многих студентов из нашей выборки\n",
    "\n",
    "students[(students['ques_quant'] < students['ques_quant'].quantile(0.5))].hist(column=['ques_quant'])"
   ]
  },
  {
   "cell_type": "code",
   "execution_count": null,
   "id": "227726d3",
   "metadata": {},
   "outputs": [],
   "source": [
    "\"\"\"\n",
    "Построим диаграмму рассеяния, показывающую зависимость правильных ответов от кол-ва виденных объяснений\n",
    "\"\"\"\n",
    "students[(students['expl_watched'] < 500)].plot.scatter(x='av_grade', y='expl_watched', c='yellow')"
   ]
  },
  {
   "cell_type": "code",
   "execution_count": null,
   "id": "a73cc5a8",
   "metadata": {},
   "outputs": [],
   "source": [
    "\"\"\"\n",
    "Построим новый столбец с группировкой по кол-ву правильных ответов\n",
    "Далее строим диаграмму размаха\n",
    "\"\"\"\n",
    "def expl_convert(e):\n",
    "    if e < students['expl_watched'].quantile(0.1): return 0\n",
    "    elif e < students['expl_watched'].quantile(0.2): return 1\n",
    "    elif e < students['expl_watched'].quantile(0.3): return 2\n",
    "    elif e < students['expl_watched'].quantile(0.4): return 3\n",
    "    elif e < students['expl_watched'].quantile(0.5): return 4\n",
    "    elif e < students['expl_watched'].quantile(0.6): return 5\n",
    "    elif e < students['expl_watched'].quantile(0.7): return 6\n",
    "    elif e < students['expl_watched'].quantile(0.8): return 7\n",
    "    elif e < students['expl_watched'].quantile(0.9): return 8\n",
    "    else: return 9\n",
    "    \n",
    "students['e_group'] = students['expl_watched'].apply(expl_convert)\n",
    "students['expl_watched'].quantile(0.5)"
   ]
  },
  {
   "cell_type": "code",
   "execution_count": null,
   "id": "9f8df1f0",
   "metadata": {},
   "outputs": [],
   "source": [
    "# здесь мы видим, что 34 вопроса - порог отсечения для многих студентов\n",
    "students[(students['expl_watched'] < students['expl_watched'].quantile(0.8))].hist(column=['expl_watched'])"
   ]
  },
  {
   "cell_type": "code",
   "execution_count": null,
   "id": "16012121",
   "metadata": {},
   "outputs": [],
   "source": [
    "students.boxplot(column=['av_grade'], by=['e_group'])\n",
    "\n",
    "# Видно четкий тренд на повышение оценки с ростом кол-ва просмотренных объяснений"
   ]
  },
  {
   "cell_type": "code",
   "execution_count": null,
   "id": "6bb4b673",
   "metadata": {},
   "outputs": [],
   "source": [
    "\n",
    "\"\"\"\n",
    "Построим диаграмму рассеяния, показывающую зависимость правильных ответов от кол-ва просмотренных лекций\n",
    "\"\"\"\n",
    "students[students['lec_watched'] < 21].plot.scatter(x='av_grade', y='lec_watched', c='green')\n",
    "\n",
    "# Мы видим, что экстремальные выбросы можно убрать, ограничив число 21 лекцией"
   ]
  },
  {
   "cell_type": "code",
   "execution_count": null,
   "id": "b3add165",
   "metadata": {},
   "outputs": [],
   "source": [
    "\"\"\"\n",
    "Построим диаграмму размаха, показывающую зависимость правильных ответов от кол-ва просмотренных лекций\n",
    "\"\"\"\n",
    "students[students['lec_watched'] < 21].boxplot(column=['av_grade'], by=['lec_watched'])\n",
    "\n",
    "# Мы видим, что даже просмотр 1 леции повышает средний балл и значительно повышает минимальную оценку студента.\n",
    "# Максимальный эффект достигается при просмотре 4-11 лекций, после чего эффективность просмотров снижается"
   ]
  },
  {
   "cell_type": "raw",
   "id": "895f9743",
   "metadata": {},
   "source": [
    "# Перейдем к questions dataset"
   ]
  },
  {
   "cell_type": "code",
   "execution_count": null,
   "id": "10e906dc",
   "metadata": {},
   "outputs": [],
   "source": [
    "questions['question_id'].groupby(questions['bundle_id']).count().max()\n",
    "questions['part'].value_counts(normalize=True)\n",
    "questions['tags'].describe()\n",
    "\n",
    "# Часть вопросов объединены по bundle_id в блоки до 5 вопросов, хотя большинство представлены по одиночке\n",
    "# Задачи разделены по темам на 7 разделов, больше всего посвящено 5му разделу, 2, 3 и 4"
   ]
  },
  {
   "cell_type": "code",
   "execution_count": null,
   "id": "6388bfe4",
   "metadata": {},
   "outputs": [],
   "source": [
    "q_tags = set()\n",
    "for tag in questions['tags']:\n",
    "    try:\n",
    "        for t in tag.split():\n",
    "                q_tags.add(int(t))\n",
    "    except:\n",
    "        q_tags.add(int(t))\n",
    "len(q_tags)\n",
    "\n",
    "# Можно провести доп исследование вопросов, используя кластеризацию по 188 доп.признакам 'tags'"
   ]
  },
  {
   "cell_type": "code",
   "execution_count": null,
   "id": "c97439a9",
   "metadata": {},
   "outputs": [],
   "source": [
    "\"\"\"\n",
    "Для дальнейшего исследования вопросов создадим единую таблицу по их ID с данными Train\n",
    "\"\"\"\n",
    "tmp_df = train.loc[(train.content_type_id == 0), ['content_id', 'answered_correctly']]\n",
    "\"\"\"\n",
    "Столбец question_id:\n",
    "\"\"\"\n",
    "q_list = list(tmp_df['content_id'].unique())\n",
    "len(q_list)\n",
    "\n",
    "# Всего 13523 уникальных вопросов. Мы берем этот список из файла Train, чтобы иметь правильный порядок данных\n",
    "13523\n",
    "\"\"\"\n",
    "Столбцы :\n",
    "q_quant - общее количество ответов для каждого id\n",
    "correct_quant - количество правильных ответов для каждого id\n",
    "\"\"\"\n",
    "q_quant = []\n",
    "correct_quant = []\n",
    "for q in q_list:\n",
    "    tmp = tmp_df[tmp_df['content_id'] == q]['answered_correctly'].count()\n",
    "    tmp1 = tmp_df[tmp_df['content_id'] == q]['answered_correctly'].sum()\n",
    "    q_quant.append(tmp)\n",
    "    correct_quant.append(tmp1)\n",
    "\"\"\"\n",
    "Запишем полученные данные в единую таблицу\n",
    "\"\"\"\n",
    "q_ex = pd.DataFrame({'question_id': q_list,\n",
    "                        'q_quant': q_quant,\n",
    "                        'correct_quant': correct_quant\n",
    "                       }\n",
    "                      )\n",
    "q_ex = q_ex.astype({'question_id': 'int16', 'q_quant': 'int32', 'correct_quant': 'int32'})\n",
    "\"\"\"\n",
    "Внесем полученные данные в таблицу questions (пересечением),\n",
    "вначале удалив ненужные столбцы\n",
    "\"\"\"\n",
    "questions = questions.drop('correct_answer', axis=1)\n",
    "questions = pd.merge(questions, q_ex, how='inner')\n",
    "\"\"\"\n",
    "Добавим дополнительный столбец:\n",
    "Процент правильных ответов\n",
    "\"\"\"\n",
    "questions['correct_percent'] = questions['correct_quant'] / questions['q_quant']\n",
    "questions.describe()"
   ]
  },
  {
   "cell_type": "code",
   "execution_count": null,
   "id": "9d76f821",
   "metadata": {},
   "outputs": [],
   "source": [
    "\"\"\"\n",
    "Посмотрим дополнительные условия, от которых может зависеть успешность ответа на вопрос:\n",
    "- от номера раздела в тесте TOEIC ('part')\n",
    "\"\"\"\n",
    "questions.groupby('part').mean()['correct_percent'].sort_values()\n",
    "\n",
    "# По мере продвижения по разделам, видимо, сложность курса возрастает. \n",
    "# 5й раздел содержит максимальное число леций и заданий, однако средняя успеваемость студентов\n",
    "# для него самая низкая."
   ]
  },
  {
   "cell_type": "raw",
   "id": "faf0d174",
   "metadata": {},
   "source": [
    "# Перейдем к questions dataset"
   ]
  },
  {
   "cell_type": "code",
   "execution_count": null,
   "id": "c80050a5",
   "metadata": {},
   "outputs": [],
   "source": [
    "lectures = pd.read_csv('lectures.csv', sep=',',\n",
    "                      dtype = {'lecture_id': 'int16', 'tag': 'int16', \n",
    "                               'part': 'int8', 'type_of': 'object'})\n",
    "lectures.info()"
   ]
  },
  {
   "cell_type": "code",
   "execution_count": null,
   "id": "d9506431",
   "metadata": {},
   "outputs": [],
   "source": [
    "\"\"\"\n",
    "Исследуем кол-во уникальных значений для разных колонок\n",
    "\"\"\"\n",
    "unique_list_lec = []\n",
    "for col in lectures.columns:\n",
    "    item = (col, lectures[col].nunique(), lectures[col].dtype)\n",
    "    unique_list_lec.append(item)\n",
    "unique_counts_lec = pd.DataFrame(unique_list_lec,\n",
    "                                 columns=['Column_Name', 'Num_Unique', 'Type']\n",
    "                                ).sort_values(by='Num_Unique',  ignore_index=True)\n",
    "display(unique_counts_lec)\n",
    "\n",
    "# Лекции разделены по темам на 7 разделов, больше всего лекций посвящено 5му разделу, затем 6, 2 и 1\n",
    "# С учетом данных по вопросам, можно прийти к заключению, что 5 раздел - самый насыщенный по материалу,\n",
    "# 6 и 1 - более теоретические, а 3 и 4 - более прикладные.\n",
    "# Леции бывают 4 типов: вступление, целеполагание, концептуальное изложение материала и решение задач.\n",
    "# Большинство лекций посвящены теории, немного меньше - решению задач. Доля остальных несущественна.\n",
    "# Есть 151 доп.тип лекций, по которым можно провести кластеризацию"
   ]
  },
  {
   "cell_type": "code",
   "execution_count": null,
   "id": "c774096a",
   "metadata": {},
   "outputs": [],
   "source": [
    "lectures['part'].value_counts(normalize=True)\n",
    "lectures['type_of'].value_counts(normalize=True)\n",
    "lectures['tag'].value_counts().head()"
   ]
  },
  {
   "cell_type": "code",
   "execution_count": null,
   "id": "351f5cf8",
   "metadata": {},
   "outputs": [],
   "source": [
    "\"\"\"\n",
    "Для дальнейшего исследования лекций создадим единую таблицу по их ID с данными Train.\n",
    "\"\"\"\n",
    "l_list = list(train[train['content_type_id'] == 1]['content_id'].unique())\n",
    "len(l_list)\n",
    "\n",
    "# Всего 415 уникальных лекций. Мы берем этот список из файла Train, чтобы иметь правильный порядок данных"
   ]
  },
  {
   "cell_type": "code",
   "execution_count": null,
   "id": "4a45f40a",
   "metadata": {},
   "outputs": [],
   "source": [
    "\"\"\"\n",
    "Посчитаем количество просмотров лекций для каждого id\n",
    "\"\"\"\n",
    "l_quant = []\n",
    "for l in l_list:\n",
    "    tmp_l = train[(train['content_id'] == l)]['content_id'].count()\n",
    "    l_quant.append(tmp_l)\n",
    "\"\"\"\n",
    "Запишем полученные данные в единую таблицу\n",
    "\"\"\"\n",
    "l_ex = pd.DataFrame({'lecture_id': l_list,\n",
    "                        'l_quant': l_quant\n",
    "                       }\n",
    "                      )\n",
    "l_ex = l_ex.astype({'lecture_id': 'int16', 'l_quant': 'int32'})\n",
    "\"\"\"\n",
    "Внесем полученные данные в таблицу lectures (пересечением)\n",
    "\"\"\"\n",
    "lectures = pd.merge(lectures, l_ex, how='inner')\n",
    "display(lectures)"
   ]
  },
  {
   "cell_type": "code",
   "execution_count": null,
   "id": "5c6e1573",
   "metadata": {},
   "outputs": [],
   "source": [
    "\"\"\"\n",
    "Общий рейтинг популярности для лекций\n",
    "\"\"\"\n",
    "lectures.sort_values(by=['l_quant'], ascending=False).head()"
   ]
  },
  {
   "cell_type": "code",
   "execution_count": null,
   "id": "0ebec54e",
   "metadata": {},
   "outputs": [],
   "source": [
    "\"\"\"\n",
    "Рейтинг популярности для лекций, в зависимости от раздела\n",
    "\"\"\"\n",
    "lectures.groupby('part').sum()['l_quant'].sort_values(ascending=False)"
   ]
  },
  {
   "cell_type": "code",
   "execution_count": null,
   "id": "83e6f962",
   "metadata": {},
   "outputs": [],
   "source": [
    "\"\"\"\n",
    "Рейтинг относительной популярности лекций по разделам\n",
    "\"\"\"\n",
    "for part in range(1, 8):\n",
    "    print(part, lectures.groupby('part').sum()['l_quant'].sort_values(ascending=False)[part]/lectures['part'].value_counts()[part])\n",
    "    \n",
    "# Наибольшее число просмотров имеет лекция из 7го раздела, \n",
    "# при этом самая высокая средневзвешенная популярность у лекций 2 раздела"
   ]
  },
  {
   "cell_type": "code",
   "execution_count": null,
   "id": "ed9f8078",
   "metadata": {},
   "outputs": [],
   "source": [
    "\"\"\"\n",
    "Рейтинг популярности для лекций, в зависимости от тега лекции\n",
    "\"\"\"\n",
    "lectures.groupby('tag').sum()['l_quant'].sort_values(ascending=False).head()"
   ]
  },
  {
   "cell_type": "code",
   "execution_count": null,
   "id": "f7dfc807",
   "metadata": {},
   "outputs": [],
   "source": [
    "#Новая таблица\n",
    "\"\"\"\n",
    "Столбец part\n",
    "\"\"\"\n",
    "part_list = list(range(1, 8))\n",
    "\"\"\"\n",
    "Столбец кол-во вопросов в каждом разделе\n",
    "\"\"\"\n",
    "ques_quant_p = [questions[questions.part == p]['question_id'].count() for p in range(1,8)]\n",
    "\"\"\"\n",
    "Столбец кол-во ответов в каждом разделе\n",
    "\"\"\"\n",
    "ans_quant_p = [questions[questions.part == p]['q_quant'].sum() for p in range(1,8)]\n",
    "\"\"\"\n",
    "Столбец кол-во правильных ответов в каждом разделе\n",
    "\"\"\"\n",
    "right_quant_p = [questions[questions.part == p]['correct_quant'].sum() for p in range(1,8)]\n",
    "\"\"\"\n",
    "Столбец относительное кол-во правильных ответов в каждом разделе\n",
    "\"\"\"\n",
    "right_perc_p = [round(questions[questions.part == p]['correct_quant'].sum()/questions[questions.part == p]['q_quant'].sum(), 3) for p in range(1,8)]\n",
    "\"\"\"\n",
    "Столбец кол-во лекций в каждом разделе\n",
    "\"\"\"\n",
    "lec_quant_p = [lectures[lectures.part == p]['lecture_id'].count() for p in range(1,8)]\n",
    "\"\"\"\n",
    "Столбец кол-во просмотров лекций в каждом разделе\n",
    "\"\"\"\n",
    "lec_view_p = [lectures[lectures.part == p]['l_quant'].sum() for p in range(1,8)]\n",
    "\"\"\"\n",
    "Популярность лекций в каждом разделе\n",
    "\"\"\"\n",
    "lec_pop_p = [lectures[lectures.part == p]['l_quant'].sum()/lectures[lectures.part == p]['lecture_id'].count() for p in range(1,8)]\n",
    "\"\"\"\n",
    "Нормализованная популярность лекций в каждом разделе\n",
    "\"\"\"\n",
    "norm_lec_pop_p = [round(pop / max(lec_pop_p), 3) for pop in lec_pop_p]\n",
    "\"\"\"\n",
    "Запишем полученные данные в единую таблицу\n",
    "\"\"\"\n",
    "part_df = pd.DataFrame({'part': part_list,\n",
    "                        'ques_quant_p': ques_quant_p,\n",
    "                        'ans_quant_p': ans_quant_p,\n",
    "                        'right_quant_p': right_quant_p,\n",
    "                        'right_perc_p': right_perc_p,\n",
    "                        'lec_quant_p': lec_quant_p,\n",
    "                        'lec_view_p': lec_view_p,\n",
    "                        'norm_lec_pop_p': norm_lec_pop_p\n",
    "                       }\n",
    "                      )\n",
    "part_df = part_df.astype({'part': 'int8',\n",
    "                        'ques_quant_p': 'int16',\n",
    "                        'ans_quant_p': 'int64',\n",
    "                        'right_quant_p': 'int64',\n",
    "                        'right_perc_p': 'float32',\n",
    "                        'lec_quant_p': 'int16',\n",
    "                        'lec_view_p': 'int32',\n",
    "                        'norm_lec_pop_p': 'float32'\n",
    "                       })\n",
    "part_df.sort_values(by='right_perc_p', ascending=False)"
   ]
  },
  {
   "cell_type": "code",
   "execution_count": null,
   "id": "e66e5a8b",
   "metadata": {},
   "outputs": [],
   "source": []
  }
 ],
 "metadata": {
  "kernelspec": {
   "display_name": "Python 3 (ipykernel)",
   "language": "python",
   "name": "python3"
  },
  "language_info": {
   "codemirror_mode": {
    "name": "ipython",
    "version": 3
   },
   "file_extension": ".py",
   "mimetype": "text/x-python",
   "name": "python",
   "nbconvert_exporter": "python",
   "pygments_lexer": "ipython3",
   "version": "3.9.12"
  }
 },
 "nbformat": 4,
 "nbformat_minor": 5
}
